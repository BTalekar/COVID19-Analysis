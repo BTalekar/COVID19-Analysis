{
 "cells": [
  {
   "cell_type": "markdown",
   "id": "5bd1230b",
   "metadata": {},
   "source": [
    "### Scotland: COVID-19 & Winter Stat. Report"
   ]
  },
  {
   "cell_type": "code",
   "execution_count": 1,
   "id": "d4d8f088",
   "metadata": {},
   "outputs": [],
   "source": [
    "#import the required libraries\n",
    "import pandas as pd\n",
    "import numpy as np \n",
    "import matplotlib.pyplot as plt"
   ]
  },
  {
   "cell_type": "code",
   "execution_count": 2,
   "id": "93136a24",
   "metadata": {},
   "outputs": [
    {
     "data": {
      "text/html": [
       "<div>\n",
       "<style scoped>\n",
       "    .dataframe tbody tr th:only-of-type {\n",
       "        vertical-align: middle;\n",
       "    }\n",
       "\n",
       "    .dataframe tbody tr th {\n",
       "        vertical-align: top;\n",
       "    }\n",
       "\n",
       "    .dataframe thead th {\n",
       "        text-align: right;\n",
       "    }\n",
       "</style>\n",
       "<table border=\"1\" class=\"dataframe\">\n",
       "  <thead>\n",
       "    <tr style=\"text-align: right;\">\n",
       "      <th></th>\n",
       "      <th>Weeks</th>\n",
       "      <th>Mortality_Unvacinated</th>\n",
       "      <th>1dose_Mortality</th>\n",
       "      <th>2dose_Mortality</th>\n",
       "      <th>3dose_Mortality</th>\n",
       "      <th>Acute_Unvacinated</th>\n",
       "      <th>1dose_Acute</th>\n",
       "      <th>2dose_Acute</th>\n",
       "      <th>3dose_Acute</th>\n",
       "      <th>CaseRate_Unvacinated</th>\n",
       "      <th>1dose_CaseRate</th>\n",
       "      <th>2dose_CaseRate</th>\n",
       "      <th>3dose_CaseRate</th>\n",
       "    </tr>\n",
       "  </thead>\n",
       "  <tbody>\n",
       "    <tr>\n",
       "      <th>0</th>\n",
       "      <td>04 December - 10 December 2021</td>\n",
       "      <td>5.56</td>\n",
       "      <td>17.24</td>\n",
       "      <td>9.44</td>\n",
       "      <td>0.26</td>\n",
       "      <td>NaN</td>\n",
       "      <td>NaN</td>\n",
       "      <td>NaN</td>\n",
       "      <td>NaN</td>\n",
       "      <td>NaN</td>\n",
       "      <td>NaN</td>\n",
       "      <td>NaN</td>\n",
       "      <td>NaN</td>\n",
       "    </tr>\n",
       "    <tr>\n",
       "      <th>1</th>\n",
       "      <td>11 December - 17 December 2021</td>\n",
       "      <td>7.13</td>\n",
       "      <td>3.93</td>\n",
       "      <td>7.66</td>\n",
       "      <td>0.20</td>\n",
       "      <td>43.94</td>\n",
       "      <td>37.48</td>\n",
       "      <td>46.46</td>\n",
       "      <td>4.29</td>\n",
       "      <td>482.87</td>\n",
       "      <td>574.16</td>\n",
       "      <td>826.49</td>\n",
       "      <td>458.39</td>\n",
       "    </tr>\n",
       "    <tr>\n",
       "      <th>2</th>\n",
       "      <td>18 December - 24 December 2021</td>\n",
       "      <td>1.72</td>\n",
       "      <td>15.27</td>\n",
       "      <td>6.52</td>\n",
       "      <td>0.33</td>\n",
       "      <td>64.55</td>\n",
       "      <td>14.06</td>\n",
       "      <td>45.21</td>\n",
       "      <td>6.94</td>\n",
       "      <td>721.39</td>\n",
       "      <td>958.62</td>\n",
       "      <td>1527.87</td>\n",
       "      <td>902.02</td>\n",
       "    </tr>\n",
       "    <tr>\n",
       "      <th>3</th>\n",
       "      <td>25 December - 31 December 2021</td>\n",
       "      <td>4.79</td>\n",
       "      <td>0.36</td>\n",
       "      <td>7.06</td>\n",
       "      <td>0.21</td>\n",
       "      <td>84.17</td>\n",
       "      <td>53.62</td>\n",
       "      <td>78.91</td>\n",
       "      <td>20.54</td>\n",
       "      <td>1242.10</td>\n",
       "      <td>1693.71</td>\n",
       "      <td>2897.58</td>\n",
       "      <td>1755.69</td>\n",
       "    </tr>\n",
       "    <tr>\n",
       "      <th>4</th>\n",
       "      <td>01 January 2022 - 07 January 2022</td>\n",
       "      <td>NaN</td>\n",
       "      <td>NaN</td>\n",
       "      <td>NaN</td>\n",
       "      <td>NaN</td>\n",
       "      <td>59.17</td>\n",
       "      <td>63.78</td>\n",
       "      <td>130.14</td>\n",
       "      <td>14.82</td>\n",
       "      <td>1092.80</td>\n",
       "      <td>1527.57</td>\n",
       "      <td>2499.52</td>\n",
       "      <td>1466.76</td>\n",
       "    </tr>\n",
       "  </tbody>\n",
       "</table>\n",
       "</div>"
      ],
      "text/plain": [
       "                               Weeks  Mortality_Unvacinated  1dose_Mortality  \\\n",
       "0     04 December - 10 December 2021                   5.56            17.24   \n",
       "1    11 December - 17 December 2021                    7.13             3.93   \n",
       "2   18 December - 24 December 2021                     1.72            15.27   \n",
       "3    25 December - 31 December 2021                    4.79             0.36   \n",
       "4  01 January 2022 - 07 January 2022                    NaN              NaN   \n",
       "\n",
       "   2dose_Mortality  3dose_Mortality  Acute_Unvacinated  1dose_Acute  \\\n",
       "0             9.44             0.26                NaN          NaN   \n",
       "1             7.66             0.20              43.94        37.48   \n",
       "2             6.52             0.33              64.55        14.06   \n",
       "3             7.06             0.21              84.17        53.62   \n",
       "4              NaN              NaN              59.17        63.78   \n",
       "\n",
       "   2dose_Acute  3dose_Acute  CaseRate_Unvacinated  1dose_CaseRate  \\\n",
       "0          NaN          NaN                   NaN             NaN   \n",
       "1        46.46         4.29                482.87          574.16   \n",
       "2        45.21         6.94                721.39          958.62   \n",
       "3        78.91        20.54               1242.10         1693.71   \n",
       "4       130.14        14.82               1092.80         1527.57   \n",
       "\n",
       "   2dose_CaseRate  3dose_CaseRate  \n",
       "0             NaN             NaN  \n",
       "1          826.49          458.39  \n",
       "2         1527.87          902.02  \n",
       "3         2897.58         1755.69  \n",
       "4         2499.52         1466.76  "
      ]
     },
     "execution_count": 2,
     "metadata": {},
     "output_type": "execute_result"
    }
   ],
   "source": [
    "#read the data\n",
    "df = pd.read_csv('scotland_winterReport.csv')\n",
    "df"
   ]
  },
  {
   "cell_type": "code",
   "execution_count": 3,
   "id": "fb91dffc",
   "metadata": {},
   "outputs": [
    {
     "data": {
      "text/plain": [
       "(5, 13)"
      ]
     },
     "execution_count": 3,
     "metadata": {},
     "output_type": "execute_result"
    }
   ],
   "source": [
    "df.shape"
   ]
  },
  {
   "cell_type": "code",
   "execution_count": 4,
   "id": "e7e2393b",
   "metadata": {},
   "outputs": [
    {
     "name": "stdout",
     "output_type": "stream",
     "text": [
      "<class 'pandas.core.frame.DataFrame'>\n",
      "RangeIndex: 5 entries, 0 to 4\n",
      "Data columns (total 13 columns):\n",
      " #   Column                 Non-Null Count  Dtype  \n",
      "---  ------                 --------------  -----  \n",
      " 0   Weeks                  5 non-null      object \n",
      " 1   Mortality_Unvacinated  4 non-null      float64\n",
      " 2   1dose_Mortality        4 non-null      float64\n",
      " 3   2dose_Mortality        4 non-null      float64\n",
      " 4   3dose_Mortality        4 non-null      float64\n",
      " 5   Acute_Unvacinated      4 non-null      float64\n",
      " 6   1dose_Acute            4 non-null      float64\n",
      " 7   2dose_Acute            4 non-null      float64\n",
      " 8   3dose_Acute            4 non-null      float64\n",
      " 9   CaseRate_Unvacinated   4 non-null      float64\n",
      " 10  1dose_CaseRate         4 non-null      float64\n",
      " 11  2dose_CaseRate         4 non-null      float64\n",
      " 12  3dose_CaseRate         4 non-null      float64\n",
      "dtypes: float64(12), object(1)\n",
      "memory usage: 648.0+ bytes\n"
     ]
    }
   ],
   "source": [
    "df.info()"
   ]
  },
  {
   "cell_type": "code",
   "execution_count": 5,
   "id": "3548fbf7",
   "metadata": {},
   "outputs": [
    {
     "data": {
      "text/html": [
       "<div>\n",
       "<style scoped>\n",
       "    .dataframe tbody tr th:only-of-type {\n",
       "        vertical-align: middle;\n",
       "    }\n",
       "\n",
       "    .dataframe tbody tr th {\n",
       "        vertical-align: top;\n",
       "    }\n",
       "\n",
       "    .dataframe thead th {\n",
       "        text-align: right;\n",
       "    }\n",
       "</style>\n",
       "<table border=\"1\" class=\"dataframe\">\n",
       "  <thead>\n",
       "    <tr style=\"text-align: right;\">\n",
       "      <th></th>\n",
       "      <th>Weeks</th>\n",
       "      <th>Mortality_Unvacinated</th>\n",
       "      <th>1dose_Mortality</th>\n",
       "      <th>2dose_Mortality</th>\n",
       "      <th>3dose_Mortality</th>\n",
       "      <th>Acute_Unvacinated</th>\n",
       "      <th>1dose_Acute</th>\n",
       "      <th>2dose_Acute</th>\n",
       "      <th>3dose_Acute</th>\n",
       "      <th>CaseRate_Unvacinated</th>\n",
       "      <th>1dose_CaseRate</th>\n",
       "      <th>2dose_CaseRate</th>\n",
       "      <th>3dose_CaseRate</th>\n",
       "    </tr>\n",
       "  </thead>\n",
       "  <tbody>\n",
       "    <tr>\n",
       "      <th>3</th>\n",
       "      <td>25 December - 31 December 2021</td>\n",
       "      <td>4.79</td>\n",
       "      <td>0.36</td>\n",
       "      <td>7.06</td>\n",
       "      <td>0.21</td>\n",
       "      <td>84.17</td>\n",
       "      <td>53.62</td>\n",
       "      <td>78.91</td>\n",
       "      <td>20.54</td>\n",
       "      <td>1242.1</td>\n",
       "      <td>1693.71</td>\n",
       "      <td>2897.58</td>\n",
       "      <td>1755.69</td>\n",
       "    </tr>\n",
       "  </tbody>\n",
       "</table>\n",
       "</div>"
      ],
      "text/plain": [
       "                             Weeks  Mortality_Unvacinated  1dose_Mortality  \\\n",
       "3  25 December - 31 December 2021                    4.79             0.36   \n",
       "\n",
       "   2dose_Mortality  3dose_Mortality  Acute_Unvacinated  1dose_Acute  \\\n",
       "3             7.06             0.21              84.17        53.62   \n",
       "\n",
       "   2dose_Acute  3dose_Acute  CaseRate_Unvacinated  1dose_CaseRate  \\\n",
       "3        78.91        20.54                1242.1         1693.71   \n",
       "\n",
       "   2dose_CaseRate  3dose_CaseRate  \n",
       "3         2897.58         1755.69  "
      ]
     },
     "execution_count": 5,
     "metadata": {},
     "output_type": "execute_result"
    }
   ],
   "source": [
    "#Create a datframe, for 25th Dec to 31 Dec 2021\n",
    "data = df[(df['Weeks'] == '25 December - 31 December 2021 ')]\n",
    "data"
   ]
  },
  {
   "cell_type": "code",
   "execution_count": 6,
   "id": "afbde8c7",
   "metadata": {},
   "outputs": [
    {
     "data": {
      "text/plain": [
       "(1, 13)"
      ]
     },
     "execution_count": 6,
     "metadata": {},
     "output_type": "execute_result"
    }
   ],
   "source": [
    "data.shape"
   ]
  },
  {
   "cell_type": "code",
   "execution_count": 7,
   "id": "afb3764f",
   "metadata": {},
   "outputs": [],
   "source": [
    "Unvacinated_mortality = data['Mortality_Unvacinated']\n",
    "dose1_M = data['1dose_Mortality']     \n",
    "dose2_M =  data['2dose_Mortality']      \n",
    "dose3_M = data['3dose_Mortality'] "
   ]
  },
  {
   "cell_type": "code",
   "execution_count": 8,
   "id": "40cbc814",
   "metadata": {},
   "outputs": [
    {
     "data": {
      "image/png": "[encoded data removed]",
      "text/plain": [
       "<Figure size 432x288 with 1 Axes>"
      ]
     },
     "metadata": {
      "needs_background": "light"
     },
     "output_type": "display_data"
    }
   ],
   "source": [
    "#Plot the graph for Mortality rates per 100,000\n",
    "barWidth= 0.2\n",
    "r = np.arange(1) \n",
    "plt.bar(r - 1.5 * barWidth,Unvacinated_mortality, color='lightskyblue', width=barWidth, label='Unvaccinated')\n",
    "plt.bar(r - 0.5 * barWidth, dose1_M, color='r', width=barWidth, label='Dose 1')\n",
    "plt.bar(r + 0.5 * barWidth, dose2_M, color='gold', width=barWidth, label='Dose 2')\n",
    "plt.bar(r + 1.5 * barWidth, dose3_M, color='limegreen', width=barWidth,  label='Dose 3')\n",
    "\n",
    "plt.xlabel('Age Standardised Covid-19 mortality rate per 100,000 (25-31 Dec 2021)')\n",
    "plt.ylim(0, 8)\n",
    "plt.yticks(np.arange(0, 8, 2))\n",
    "plt.xticks(r)\n",
    "plt.tick_params(left = False, bottom = False,labelbottom = False) \n",
    "plt.legend()\n",
    "plt.show()"
   ]
  },
  {
   "cell_type": "code",
   "execution_count": 9,
   "id": "b4da5117",
   "metadata": {},
   "outputs": [
    {
     "data": {
      "text/html": [
       "<div>\n",
       "<style scoped>\n",
       "    .dataframe tbody tr th:only-of-type {\n",
       "        vertical-align: middle;\n",
       "    }\n",
       "\n",
       "    .dataframe tbody tr th {\n",
       "        vertical-align: top;\n",
       "    }\n",
       "\n",
       "    .dataframe thead th {\n",
       "        text-align: right;\n",
       "    }\n",
       "</style>\n",
       "<table border=\"1\" class=\"dataframe\">\n",
       "  <thead>\n",
       "    <tr style=\"text-align: right;\">\n",
       "      <th></th>\n",
       "      <th>Weeks</th>\n",
       "      <th>Mortality_Unvacinated</th>\n",
       "      <th>1dose_Mortality</th>\n",
       "      <th>2dose_Mortality</th>\n",
       "      <th>3dose_Mortality</th>\n",
       "      <th>Acute_Unvacinated</th>\n",
       "      <th>1dose_Acute</th>\n",
       "      <th>2dose_Acute</th>\n",
       "      <th>3dose_Acute</th>\n",
       "      <th>CaseRate_Unvacinated</th>\n",
       "      <th>1dose_CaseRate</th>\n",
       "      <th>2dose_CaseRate</th>\n",
       "      <th>3dose_CaseRate</th>\n",
       "    </tr>\n",
       "  </thead>\n",
       "  <tbody>\n",
       "    <tr>\n",
       "      <th>4</th>\n",
       "      <td>01 January 2022 - 07 January 2022</td>\n",
       "      <td>NaN</td>\n",
       "      <td>NaN</td>\n",
       "      <td>NaN</td>\n",
       "      <td>NaN</td>\n",
       "      <td>59.17</td>\n",
       "      <td>63.78</td>\n",
       "      <td>130.14</td>\n",
       "      <td>14.82</td>\n",
       "      <td>1092.8</td>\n",
       "      <td>1527.57</td>\n",
       "      <td>2499.52</td>\n",
       "      <td>1466.76</td>\n",
       "    </tr>\n",
       "  </tbody>\n",
       "</table>\n",
       "</div>"
      ],
      "text/plain": [
       "                               Weeks  Mortality_Unvacinated  1dose_Mortality  \\\n",
       "4  01 January 2022 - 07 January 2022                    NaN              NaN   \n",
       "\n",
       "   2dose_Mortality  3dose_Mortality  Acute_Unvacinated  1dose_Acute  \\\n",
       "4              NaN              NaN              59.17        63.78   \n",
       "\n",
       "   2dose_Acute  3dose_Acute  CaseRate_Unvacinated  1dose_CaseRate  \\\n",
       "4       130.14        14.82                1092.8         1527.57   \n",
       "\n",
       "   2dose_CaseRate  3dose_CaseRate  \n",
       "4         2499.52         1466.76  "
      ]
     },
     "execution_count": 9,
     "metadata": {},
     "output_type": "execute_result"
    }
   ],
   "source": [
    "#Create a datframe, for 01st Jan to 07 Jan 2022\n",
    "data1 = df[(df['Weeks'] == '01 January 2022 - 07 January 2022')]\n",
    "data1"
   ]
  },
  {
   "cell_type": "code",
   "execution_count": 10,
   "id": "b78cdde3",
   "metadata": {},
   "outputs": [],
   "source": [
    "unvacinated_Acute = data1['Acute_Unvacinated']\n",
    "dose1_Acute = data1['1dose_Acute']     \n",
    "dose2_Acute =  data1['2dose_Acute']      \n",
    "dose3_Acute = data1['3dose_Acute'] "
   ]
  },
  {
   "cell_type": "code",
   "execution_count": 11,
   "id": "d6a92ee8",
   "metadata": {},
   "outputs": [
    {
     "data": {
      "image/png": "[encoded data removed]",
      "text/plain": [
       "<Figure size 432x288 with 1 Axes>"
      ]
     },
     "metadata": {
      "needs_background": "light"
     },
     "output_type": "display_data"
    }
   ],
   "source": [
    "#Plot the graph for Acute Covid19 Hospitals\n",
    "barWidth= 0.2\n",
    "r = np.arange(1) \n",
    "plt.bar(r - 1.5 * barWidth,unvacinated_Acute, color='lightskyblue', width=barWidth, label='Unvaccinated')\n",
    "plt.bar(r - 0.5 * barWidth, dose1_Acute, color='r', width=barWidth, label='Dose 1')\n",
    "plt.bar(r + 0.5 * barWidth, dose2_Acute, color='gold', width=barWidth, label='Dose 2')\n",
    "plt.bar(r + 1.5 * barWidth, dose3_Acute, color='limegreen', width=barWidth,  label='Dose 3')\n",
    "\n",
    "plt.xlabel('Age-standardised rate of acute Covid19 hospital admissions (01-07 Jan 2022)')\n",
    "plt.ylim(0, 150)\n",
    "plt.yticks(np.arange(0, 150, 50))\n",
    "plt.xticks(r)\n",
    "plt.tick_params(left = False, bottom = False,labelbottom = False) \n",
    "plt.legend()\n",
    "plt.show()"
   ]
  },
  {
   "cell_type": "code",
   "execution_count": 12,
   "id": "3cc6132b",
   "metadata": {},
   "outputs": [
    {
     "data": {
      "text/html": [
       "<div>\n",
       "<style scoped>\n",
       "    .dataframe tbody tr th:only-of-type {\n",
       "        vertical-align: middle;\n",
       "    }\n",
       "\n",
       "    .dataframe tbody tr th {\n",
       "        vertical-align: top;\n",
       "    }\n",
       "\n",
       "    .dataframe thead th {\n",
       "        text-align: right;\n",
       "    }\n",
       "</style>\n",
       "<table border=\"1\" class=\"dataframe\">\n",
       "  <thead>\n",
       "    <tr style=\"text-align: right;\">\n",
       "      <th></th>\n",
       "      <th>Weeks</th>\n",
       "      <th>Mortality_Unvacinated</th>\n",
       "      <th>1dose_Mortality</th>\n",
       "      <th>2dose_Mortality</th>\n",
       "      <th>3dose_Mortality</th>\n",
       "      <th>Acute_Unvacinated</th>\n",
       "      <th>1dose_Acute</th>\n",
       "      <th>2dose_Acute</th>\n",
       "      <th>3dose_Acute</th>\n",
       "      <th>CaseRate_Unvacinated</th>\n",
       "      <th>1dose_CaseRate</th>\n",
       "      <th>2dose_CaseRate</th>\n",
       "      <th>3dose_CaseRate</th>\n",
       "    </tr>\n",
       "  </thead>\n",
       "  <tbody>\n",
       "    <tr>\n",
       "      <th>4</th>\n",
       "      <td>01 January 2022 - 07 January 2022</td>\n",
       "      <td>NaN</td>\n",
       "      <td>NaN</td>\n",
       "      <td>NaN</td>\n",
       "      <td>NaN</td>\n",
       "      <td>59.17</td>\n",
       "      <td>63.78</td>\n",
       "      <td>130.14</td>\n",
       "      <td>14.82</td>\n",
       "      <td>1092.8</td>\n",
       "      <td>1527.57</td>\n",
       "      <td>2499.52</td>\n",
       "      <td>1466.76</td>\n",
       "    </tr>\n",
       "  </tbody>\n",
       "</table>\n",
       "</div>"
      ],
      "text/plain": [
       "                               Weeks  Mortality_Unvacinated  1dose_Mortality  \\\n",
       "4  01 January 2022 - 07 January 2022                    NaN              NaN   \n",
       "\n",
       "   2dose_Mortality  3dose_Mortality  Acute_Unvacinated  1dose_Acute  \\\n",
       "4              NaN              NaN              59.17        63.78   \n",
       "\n",
       "   2dose_Acute  3dose_Acute  CaseRate_Unvacinated  1dose_CaseRate  \\\n",
       "4       130.14        14.82                1092.8         1527.57   \n",
       "\n",
       "   2dose_CaseRate  3dose_CaseRate  \n",
       "4         2499.52         1466.76  "
      ]
     },
     "execution_count": 12,
     "metadata": {},
     "output_type": "execute_result"
    }
   ],
   "source": [
    "data1"
   ]
  },
  {
   "cell_type": "code",
   "execution_count": 13,
   "id": "4d2c5c62",
   "metadata": {},
   "outputs": [],
   "source": [
    "#Using the above dataframe, plot the graph for Case-Rates\n",
    "unvacinated_CaseRate = data1['CaseRate_Unvacinated']\n",
    "dose1_CaseRate = data1['1dose_CaseRate']     \n",
    "dose2_CaseRate =  data1['2dose_CaseRate']     \n",
    "dose3_CaseRate =  data1['3dose_CaseRate']  \n"
   ]
  },
  {
   "cell_type": "code",
   "execution_count": 22,
   "id": "b00d5dbc",
   "metadata": {},
   "outputs": [
    {
     "data": {
      "image/png": "[encoded data removed]",
      "text/plain": [
       "<Figure size 432x288 with 1 Axes>"
      ]
     },
     "metadata": {
      "needs_background": "light"
     },
     "output_type": "display_data"
    }
   ],
   "source": [
    "barWidth= 0.2\n",
    "r = np.arange(1) \n",
    "plt.bar(r - 1.5 * barWidth,unvacinated_CaseRate, color='lightskyblue', width=barWidth, label='Unvaccinated')\n",
    "plt.bar(r - 0.5 * barWidth, dose1_CaseRate, color='r', width=barWidth, label='Dose 1')\n",
    "plt.bar(r + 0.5 * barWidth, dose2_CaseRate, color='gold', width=barWidth, label='Dose 2')\n",
    "plt.bar(r + 1.5 * barWidth, dose3_CaseRate, color='limegreen', width=barWidth,  label='Dose 3')\n",
    "plt.xlabel('Age-standardised case rate per 100,000 individuals (01-07 Jan 2022)')\n",
    "plt.xticks(r)\n",
    "plt.ylim(0, 2500)\n",
    "plt.yticks(np.arange(0, 2500, 500))\n",
    "plt.tick_params(left = False, bottom = False,labelbottom = False) \n",
    "plt.legend()\n",
    "plt.show()"
   ]
  },
  {
   "cell_type": "markdown",
   "id": "47f224b3",
   "metadata": {},
   "source": [
    "### Conclusion : Covid Death Rate is highest for 2-dose population"
   ]
  }
 ],
 "metadata": {
  "kernelspec": {
   "display_name": "Python 3 (ipykernel)",
   "language": "python",
   "name": "python3"
  },
  "language_info": {
   "codemirror_mode": {
    "name": "ipython",
    "version": 3
   },
   "file_extension": ".py",
   "mimetype": "text/x-python",
   "name": "python",
   "nbconvert_exporter": "python",
   "pygments_lexer": "ipython3",
   "version": "3.9.7"
  }
 },
 "nbformat": 4,
 "nbformat_minor": 5
}
